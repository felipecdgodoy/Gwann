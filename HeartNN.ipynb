{
 "cells": [
  {
   "cell_type": "code",
   "execution_count": 1,
   "metadata": {},
   "outputs": [
    {
     "name": "stderr",
     "output_type": "stream",
     "text": [
      "Using TensorFlow backend.\n"
     ]
    }
   ],
   "source": [
    "import numpy as np\n",
    "import pandas as pd\n",
    "import keras\n",
    "import tensorflow as tf"
   ]
  },
  {
   "cell_type": "code",
   "execution_count": 4,
   "metadata": {},
   "outputs": [
    {
     "data": {
      "text/html": [
       "<div>\n",
       "<style scoped>\n",
       "    .dataframe tbody tr th:only-of-type {\n",
       "        vertical-align: middle;\n",
       "    }\n",
       "\n",
       "    .dataframe tbody tr th {\n",
       "        vertical-align: top;\n",
       "    }\n",
       "\n",
       "    .dataframe thead th {\n",
       "        text-align: right;\n",
       "    }\n",
       "</style>\n",
       "<table border=\"1\" class=\"dataframe\">\n",
       "  <thead>\n",
       "    <tr style=\"text-align: right;\">\n",
       "      <th></th>\n",
       "      <th>age</th>\n",
       "      <th>sex</th>\n",
       "      <th>cp</th>\n",
       "      <th>trestbps</th>\n",
       "      <th>chol</th>\n",
       "      <th>fbs</th>\n",
       "      <th>restecg</th>\n",
       "      <th>thalach</th>\n",
       "      <th>exang</th>\n",
       "      <th>oldpeak</th>\n",
       "      <th>slope</th>\n",
       "      <th>ca</th>\n",
       "      <th>thal</th>\n",
       "      <th>target</th>\n",
       "    </tr>\n",
       "  </thead>\n",
       "  <tbody>\n",
       "    <tr>\n",
       "      <td>0</td>\n",
       "      <td>63</td>\n",
       "      <td>1</td>\n",
       "      <td>3</td>\n",
       "      <td>145</td>\n",
       "      <td>233</td>\n",
       "      <td>1</td>\n",
       "      <td>0</td>\n",
       "      <td>150</td>\n",
       "      <td>0</td>\n",
       "      <td>2.3</td>\n",
       "      <td>0</td>\n",
       "      <td>0</td>\n",
       "      <td>1</td>\n",
       "      <td>1</td>\n",
       "    </tr>\n",
       "    <tr>\n",
       "      <td>1</td>\n",
       "      <td>37</td>\n",
       "      <td>1</td>\n",
       "      <td>2</td>\n",
       "      <td>130</td>\n",
       "      <td>250</td>\n",
       "      <td>0</td>\n",
       "      <td>1</td>\n",
       "      <td>187</td>\n",
       "      <td>0</td>\n",
       "      <td>3.5</td>\n",
       "      <td>0</td>\n",
       "      <td>0</td>\n",
       "      <td>2</td>\n",
       "      <td>1</td>\n",
       "    </tr>\n",
       "    <tr>\n",
       "      <td>2</td>\n",
       "      <td>41</td>\n",
       "      <td>0</td>\n",
       "      <td>1</td>\n",
       "      <td>130</td>\n",
       "      <td>204</td>\n",
       "      <td>0</td>\n",
       "      <td>0</td>\n",
       "      <td>172</td>\n",
       "      <td>0</td>\n",
       "      <td>1.4</td>\n",
       "      <td>2</td>\n",
       "      <td>0</td>\n",
       "      <td>2</td>\n",
       "      <td>1</td>\n",
       "    </tr>\n",
       "    <tr>\n",
       "      <td>3</td>\n",
       "      <td>56</td>\n",
       "      <td>1</td>\n",
       "      <td>1</td>\n",
       "      <td>120</td>\n",
       "      <td>236</td>\n",
       "      <td>0</td>\n",
       "      <td>1</td>\n",
       "      <td>178</td>\n",
       "      <td>0</td>\n",
       "      <td>0.8</td>\n",
       "      <td>2</td>\n",
       "      <td>0</td>\n",
       "      <td>2</td>\n",
       "      <td>1</td>\n",
       "    </tr>\n",
       "    <tr>\n",
       "      <td>4</td>\n",
       "      <td>57</td>\n",
       "      <td>0</td>\n",
       "      <td>0</td>\n",
       "      <td>120</td>\n",
       "      <td>354</td>\n",
       "      <td>0</td>\n",
       "      <td>1</td>\n",
       "      <td>163</td>\n",
       "      <td>1</td>\n",
       "      <td>0.6</td>\n",
       "      <td>2</td>\n",
       "      <td>0</td>\n",
       "      <td>2</td>\n",
       "      <td>1</td>\n",
       "    </tr>\n",
       "  </tbody>\n",
       "</table>\n",
       "</div>"
      ],
      "text/plain": [
       "   age  sex  cp  trestbps  chol  fbs  restecg  thalach  exang  oldpeak  slope  \\\n",
       "0   63    1   3       145   233    1        0      150      0      2.3      0   \n",
       "1   37    1   2       130   250    0        1      187      0      3.5      0   \n",
       "2   41    0   1       130   204    0        0      172      0      1.4      2   \n",
       "3   56    1   1       120   236    0        1      178      0      0.8      2   \n",
       "4   57    0   0       120   354    0        1      163      1      0.6      2   \n",
       "\n",
       "   ca  thal  target  \n",
       "0   0     1       1  \n",
       "1   0     2       1  \n",
       "2   0     2       1  \n",
       "3   0     2       1  \n",
       "4   0     2       1  "
      ]
     },
     "execution_count": 4,
     "metadata": {},
     "output_type": "execute_result"
    }
   ],
   "source": [
    "data = pd.read_csv('heart_data.csv')\n",
    "data.head()"
   ]
  },
  {
   "cell_type": "code",
   "execution_count": 14,
   "metadata": {},
   "outputs": [],
   "source": [
    "column_selection = [\"age\",\"sex\",\"cp\",\"trestbps\",\n",
    "                    \"chol\",\"fbs\",\"restecg\",\"thalach\",\n",
    "                    \"exang\",\"oldpeak\",\"slope\",\n",
    "                    \"ca\", \"thal\"]\n",
    "\n",
    "selected_feature = np.array(data[column_selection])\n",
    "np.random.shuffle(selected_feature)\n",
    "rip = np.array(data[\"target\"])"
   ]
  },
  {
   "cell_type": "code",
   "execution_count": 15,
   "metadata": {},
   "outputs": [],
   "source": [
    "selected_feature_train = selected_feature[:7892]\n",
    "rip_train = rip[:7892]\n",
    "selected_feature_test = selected_feature[7892:]\n",
    "rip_test = rip[7892:]"
   ]
  },
  {
   "cell_type": "code",
   "execution_count": 16,
   "metadata": {},
   "outputs": [],
   "source": [
    "def score(y,y_pred):\n",
    "    return np.mean(np.abs(y-y_pred)/y)"
   ]
  },
  {
   "cell_type": "code",
   "execution_count": 17,
   "metadata": {},
   "outputs": [
    {
     "name": "stderr",
     "output_type": "stream",
     "text": [
      "WARNING: Logging before flag parsing goes to stderr.\n",
      "W1002 18:13:42.889486 19508 deprecation_wrapper.py:119] From C:\\ProgramData\\Miniconda3\\lib\\site-packages\\keras\\backend\\tensorflow_backend.py:74: The name tf.get_default_graph is deprecated. Please use tf.compat.v1.get_default_graph instead.\n",
      "\n"
     ]
    }
   ],
   "source": [
    "model = keras.Sequential()"
   ]
  },
  {
   "cell_type": "code",
   "execution_count": 18,
   "metadata": {},
   "outputs": [
    {
     "name": "stderr",
     "output_type": "stream",
     "text": [
      "W1002 18:13:55.579721 19508 deprecation_wrapper.py:119] From C:\\ProgramData\\Miniconda3\\lib\\site-packages\\keras\\backend\\tensorflow_backend.py:517: The name tf.placeholder is deprecated. Please use tf.compat.v1.placeholder instead.\n",
      "\n",
      "W1002 18:13:55.599751 19508 deprecation_wrapper.py:119] From C:\\ProgramData\\Miniconda3\\lib\\site-packages\\keras\\backend\\tensorflow_backend.py:4138: The name tf.random_uniform is deprecated. Please use tf.random.uniform instead.\n",
      "\n"
     ]
    }
   ],
   "source": [
    "input_len = len(column_selection)\n",
    "model.add(keras.layers.Dense(50, input_dim=input_len, activation='relu'))\n",
    "model.add(keras.layers.Dense(50, activation='relu'))\n",
    "model.add(keras.layers.Dense(1))"
   ]
  },
  {
   "cell_type": "code",
   "execution_count": 19,
   "metadata": {},
   "outputs": [
    {
     "name": "stderr",
     "output_type": "stream",
     "text": [
      "W1002 18:14:18.381340 19508 deprecation_wrapper.py:119] From C:\\ProgramData\\Miniconda3\\lib\\site-packages\\keras\\optimizers.py:790: The name tf.train.Optimizer is deprecated. Please use tf.compat.v1.train.Optimizer instead.\n",
      "\n"
     ]
    }
   ],
   "source": [
    "model.compile(loss='mean_squared_error', optimizer='adam')"
   ]
  },
  {
   "cell_type": "code",
   "execution_count": 20,
   "metadata": {},
   "outputs": [
    {
     "name": "stderr",
     "output_type": "stream",
     "text": [
      "W1002 18:15:29.797073 19508 deprecation_wrapper.py:119] From C:\\ProgramData\\Miniconda3\\lib\\site-packages\\keras\\backend\\tensorflow_backend.py:986: The name tf.assign_add is deprecated. Please use tf.compat.v1.assign_add instead.\n",
      "\n",
      "W1002 18:15:30.104667 19508 deprecation_wrapper.py:119] From C:\\ProgramData\\Miniconda3\\lib\\site-packages\\keras\\backend\\tensorflow_backend.py:973: The name tf.assign is deprecated. Please use tf.compat.v1.assign instead.\n",
      "\n"
     ]
    },
    {
     "name": "stdout",
     "output_type": "stream",
     "text": [
      "Epoch 1/50\n",
      "7892/7892 [==============================] - 1s 136us/step - loss: 3.2645\n",
      "Epoch 2/50\n",
      "7892/7892 [==============================] - 0s 34us/step - loss: 0.4494\n",
      "Epoch 3/50\n",
      "7892/7892 [==============================] - 0s 31us/step - loss: 0.3913\n",
      "Epoch 4/50\n",
      "7892/7892 [==============================] - 0s 34us/step - loss: 0.3727\n",
      "Epoch 5/50\n",
      "7892/7892 [==============================] - 0s 31us/step - loss: 0.3494\n",
      "Epoch 6/50\n",
      "7892/7892 [==============================] - 0s 37us/step - loss: 0.3110\n",
      "Epoch 7/50\n",
      "7892/7892 [==============================] - 0s 39us/step - loss: 0.3102\n",
      "Epoch 8/50\n",
      "7892/7892 [==============================] - 0s 34us/step - loss: 0.3207\n",
      "Epoch 9/50\n",
      "7892/7892 [==============================] - 0s 32us/step - loss: 0.3178\n",
      "Epoch 10/50\n",
      "7892/7892 [==============================] - 0s 33us/step - loss: 0.2900\n",
      "Epoch 11/50\n",
      "7892/7892 [==============================] - 0s 32us/step - loss: 0.2860\n",
      "Epoch 12/50\n",
      "7892/7892 [==============================] - 0s 37us/step - loss: 0.3039\n",
      "Epoch 13/50\n",
      "7892/7892 [==============================] - 0s 32us/step - loss: 0.2978\n",
      "Epoch 14/50\n",
      "7892/7892 [==============================] - 0s 32us/step - loss: 0.3266\n",
      "Epoch 15/50\n",
      "7892/7892 [==============================] - 0s 32us/step - loss: 0.3007\n",
      "Epoch 16/50\n",
      "7892/7892 [==============================] - 0s 32us/step - loss: 0.2849\n",
      "Epoch 17/50\n",
      "7892/7892 [==============================] - 0s 32us/step - loss: 0.2809\n",
      "Epoch 18/50\n",
      "7892/7892 [==============================] - 0s 32us/step - loss: 0.2879\n",
      "Epoch 19/50\n",
      "7892/7892 [==============================] - 0s 40us/step - loss: 0.3220\n",
      "Epoch 20/50\n",
      "7892/7892 [==============================] - 0s 37us/step - loss: 0.3561\n",
      "Epoch 21/50\n",
      "7892/7892 [==============================] - 0s 35us/step - loss: 0.3035\n",
      "Epoch 22/50\n",
      "7892/7892 [==============================] - 0s 34us/step - loss: 0.2754\n",
      "Epoch 23/50\n",
      "7892/7892 [==============================] - 0s 33us/step - loss: 0.2861\n",
      "Epoch 24/50\n",
      "7892/7892 [==============================] - 0s 33us/step - loss: 0.3213\n",
      "Epoch 25/50\n",
      "7892/7892 [==============================] - 0s 38us/step - loss: 0.3310\n",
      "Epoch 26/50\n",
      "7892/7892 [==============================] - 0s 36us/step - loss: 0.3834\n",
      "Epoch 27/50\n",
      "7892/7892 [==============================] - 0s 32us/step - loss: 0.3000\n",
      "Epoch 28/50\n",
      "7892/7892 [==============================] - 0s 32us/step - loss: 0.2786\n",
      "Epoch 29/50\n",
      "7892/7892 [==============================] - 0s 32us/step - loss: 0.2870\n",
      "Epoch 30/50\n",
      "7892/7892 [==============================] - 0s 36us/step - loss: 0.2981\n",
      "Epoch 31/50\n",
      "7892/7892 [==============================] - 0s 36us/step - loss: 0.3139\n",
      "Epoch 32/50\n",
      "7892/7892 [==============================] - 0s 36us/step - loss: 0.3240\n",
      "Epoch 33/50\n",
      "7892/7892 [==============================] - 0s 34us/step - loss: 0.3915\n",
      "Epoch 34/50\n",
      "7892/7892 [==============================] - 0s 33us/step - loss: 0.2730\n",
      "Epoch 35/50\n",
      "7892/7892 [==============================] - 0s 33us/step - loss: 0.3261\n",
      "Epoch 36/50\n",
      "7892/7892 [==============================] - 0s 37us/step - loss: 0.2998\n",
      "Epoch 37/50\n",
      "7892/7892 [==============================] - 0s 34us/step - loss: 0.4221\n",
      "Epoch 38/50\n",
      "7892/7892 [==============================] - 0s 33us/step - loss: 0.2866\n",
      "Epoch 39/50\n",
      "7892/7892 [==============================] - 0s 34us/step - loss: 0.2934\n",
      "Epoch 40/50\n",
      "7892/7892 [==============================] - 0s 35us/step - loss: 0.2819\n",
      "Epoch 41/50\n",
      "7892/7892 [==============================] - 0s 35us/step - loss: 0.2986\n",
      "Epoch 42/50\n",
      "7892/7892 [==============================] - 0s 32us/step - loss: 0.3058\n",
      "Epoch 43/50\n",
      "7892/7892 [==============================] - 0s 35us/step - loss: 0.2893\n",
      "Epoch 44/50\n",
      "7892/7892 [==============================] - 0s 34us/step - loss: 0.2908\n",
      "Epoch 45/50\n",
      "7892/7892 [==============================] - 0s 34us/step - loss: 0.3032\n",
      "Epoch 46/50\n",
      "7892/7892 [==============================] - 0s 35us/step - loss: 0.3669\n",
      "Epoch 47/50\n",
      "7892/7892 [==============================] - 0s 38us/step - loss: 0.2962\n",
      "Epoch 48/50\n",
      "7892/7892 [==============================] - 0s 38us/step - loss: 0.3075\n",
      "Epoch 49/50\n",
      "7892/7892 [==============================] - 0s 33us/step - loss: 0.3041\n",
      "Epoch 50/50\n",
      "7892/7892 [==============================] - 0s 33us/step - loss: 0.3474\n"
     ]
    }
   ],
   "source": [
    "history = model.fit(selected_feature_train, rip_train,\n",
    "                        epochs=50, batch_size=128)"
   ]
  },
  {
   "cell_type": "code",
   "execution_count": 21,
   "metadata": {},
   "outputs": [
    {
     "data": {
      "text/plain": [
       "0.9482019393410558"
      ]
     },
     "execution_count": 21,
     "metadata": {},
     "output_type": "execute_result"
    }
   ],
   "source": [
    "preds = model.predict(selected_feature_test)\n",
    "score(preds, rip_test)"
   ]
  },
  {
   "cell_type": "code",
   "execution_count": null,
   "metadata": {},
   "outputs": [],
   "source": []
  }
 ],
 "metadata": {
  "kernelspec": {
   "display_name": "Python 3",
   "language": "python",
   "name": "python3"
  },
  "language_info": {
   "codemirror_mode": {
    "name": "ipython",
    "version": 3
   },
   "file_extension": ".py",
   "mimetype": "text/x-python",
   "name": "python",
   "nbconvert_exporter": "python",
   "pygments_lexer": "ipython3",
   "version": "3.7.3"
  }
 },
 "nbformat": 4,
 "nbformat_minor": 2
}
