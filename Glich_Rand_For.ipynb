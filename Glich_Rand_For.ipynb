{
 "nbformat": 4,
 "nbformat_minor": 2,
 "metadata": {
  "language_info": {
   "name": "python",
   "codemirror_mode": {
    "name": "ipython",
    "version": 3
   }
  },
  "orig_nbformat": 2,
  "file_extension": ".py",
  "mimetype": "text/x-python",
  "name": "python",
  "npconvert_exporter": "python",
  "pygments_lexer": "ipython3",
  "version": 3
 },
 "cells": [
  {
   "cell_type": "code",
   "execution_count": 10,
   "metadata": {},
   "outputs": [],
   "source": [
    "import numpy as np\n",
    "import pandas as pd\n",
    "import keras\n",
    "import tensorflow as tf\n",
    "from keras.callbacks import EarlyStopping, ModelCheckpoint\n",
    "from keras.layers import Dense, Conv2D, BatchNormalization, Dropout, Flatten\n",
    "from sklearn.metrics import confusion_matrix\n",
    "from sklearn import metrics\n",
    "from sklearn.ensemble import RandomForestClassifier\n",
    "from sklearn.preprocessing import Normalizer\n",
    "from sklearn.preprocessing import StandardScaler\n",
    "from itertools import combinations"
   ]
  },
  {
   "cell_type": "code",
   "execution_count": 11,
   "metadata": {},
   "outputs": [],
   "source": [
    "#turns str glich name into a 1 or 0\n",
    "def gliches_get_stiches(aList,glich):\n",
    "    new_list = []\n",
    "    for i in range(len(aList)):\n",
    "        if aList[i] == glich:\n",
    "            new_list += [1]\n",
    "        else:\n",
    "            new_list += [0]\n",
    "    return np.array(new_list)"
   ]
  },
  {
   "cell_type": "code",
   "execution_count": 12,
   "metadata": {},
   "outputs": [],
   "source": [
    "def all_da_gliches(aList):\n",
    "    new_list = []\n",
    "    \n",
    "    labels = data['label'].unique()\n",
    "    for i in range(len(aList)):\n",
    "        zeros = np.zeros(22)\n",
    "        for x in range(len(labels)):\n",
    "            if aList[i] == labels[x]:\n",
    "                zeros[x] = 1\n",
    "\n",
    "        new_list += [zeros]\n",
    "    return np.array(new_list)"
   ]
  },
  {
   "cell_type": "code",
   "execution_count": 13,
   "metadata": {},
   "outputs": [],
   "source": [
    "data = pd.read_csv('trainingset_v1d1_metadata.csv')\n",
    "\n",
    "#glich to test\n",
    "glich = 'Whistle'\n",
    "\n",
    "#what features do we want \n",
    "column_selection = [\"duration\",\"peak_frequency\",\"central_freq\",\"amplitude\",\"snr\",\"bandwidth\"]\n",
    "#[\"duration\",\"peak_frequency\",\"central_freq\",\"snr\"]\n",
    "\n",
    "\n",
    "\n",
    "#training data\n",
    "data_train = data[data['sample_type'] == 'train']\n",
    "glich_list = data_train['label'].tolist()\n",
    "y_train = all_da_gliches(glich_list)\n",
    "x_train = np.array(data_train[column_selection])\n",
    "\n",
    "#testing data\n",
    "data_test = data[data['sample_type'] == 'test']\n",
    "glich_list2 = data_test['label'].tolist()\n",
    "y_test = all_da_gliches(glich_list2)\n",
    "x_test = np.array(data_test[column_selection])\n",
    "\n",
    "#validation data\n",
    "data_val = data[data['sample_type'] == 'validation']\n",
    "glich_list3 = data_val['label'].tolist()\n",
    "y_val = all_da_gliches(glich_list3)\n",
    "x_val = np.array(data_val[column_selection])\n",
    "#print(data_test[column_selection])\n"
   ]
  },
  {
   "cell_type": "code",
   "execution_count": 16,
   "metadata": {},
   "outputs": [
    {
     "name": "stdout",
     "output_type": "stream",
     "text": "[0.72264631043257, 0.7913486005089059, 0.7947413061916879, 0.72264631043257, 0.5733672603901612, 0.5733672603901612, 0.5207803223070399, 0.6497031382527566, 0.5665818490245971, 0.547921967769296, 0.726039016115352, 0.7150127226463104, 0.6293469041560644, 0.7633587786259542, 0.7319762510602206, 0.7302798982188295, 0.5581000848176421, 0.5224766751484309, 0.556403731976251, 0.811704834605598, 0.8269720101781171, 0.7480916030534351, 0.8278201865988125, 0.820186598812553, 0.8303647158608991, 0.712468193384224, 0.6276505513146734, 0.6174724342663274, 0.7065309584393554, 0.8040712468193384, 0.7659033078880407, 0.7616624257845632, 0.8015267175572519, 0.6039016115351993, 0.8269720101781171, 0.8057675996607294, 0.8176420695504665, 0.8278201865988125, 0.7099236641221374, 0.7938931297709924]\nAccuracy: 0.5826972010178118\n"
    }
   ],
   "source": [
    "def multi_model_trial(some_data):\n",
    "    model3 = RandomForestClassifier(n_estimators= 100)\n",
    "    keep = []\n",
    "    feature_list = list(combinations(some_data,3)) + list(combinations(some_data,4)) + list(combinations(some_data,5))\n",
    "\n",
    "    for i in feature_list:\n",
    "        \n",
    "        x_train = np.array(data_train[np.array(i)])\n",
    "        scaler = StandardScaler().fit(x_train)\n",
    "        standardized_X = scaler.transform(x_train)\n",
    "        scaler2 = Normalizer().fit(standardized_X)\n",
    "        std_and_norm_X_train = scaler2.transform(standardized_X)\n",
    "        \n",
    "        x_test = np.array(data_test[np.array(i)])\n",
    "        standardized_X_test = scaler.transform(x_test)\n",
    "        std_and_norm_X_test = scaler2.transform(standardized_X_test)\n",
    "\n",
    "        #no change\n",
    "        #model3.fit(x_train, y_train)\n",
    "        #y_predict = model3.predict(x_test)\n",
    "        \n",
    "        #std \n",
    "        model3.fit(standardized_X, y_train)\n",
    "        y_predict = model3.predict(standardized_X_test)\n",
    "        \n",
    "        #std and norm\n",
    "        #model3.fit(std_and_norm_X_train, y_train)\n",
    "        #y_predict = model3.predict(std_and_norm_X_test)\n",
    "\n",
    "        keep += [y_predict]\n",
    "    return keep\n",
    "the_models2 = multi_model_trial(column_selection)\n",
    "better_model2 = []\n",
    "for i in the_models2:\n",
    "       if metrics.accuracy_score(y_test, i) > .5:\n",
    "              better_model2.append(i)\n",
    "keep2 = []\n",
    "for i in better_model2:\n",
    "    keep2.append(metrics.accuracy_score(y_test, i))\n",
    "print(keep2)\n",
    "final2 = []\n",
    "for i in range(len(better_model2[0])):\n",
    "       keep2 = np.zeros(22)\n",
    "       for x in range(len(better_model2)):\n",
    "              keep2 += better_model2[x][i]\n",
    "       for i in range(len(keep2)):\n",
    "              if keep2[i] == max(keep2):\n",
    "                     keep2[i] = 1\n",
    "              else:\n",
    "                     keep2[i] = 0\n",
    "       final2.append(keep2)\n",
    "final_array2 = np.array(final2)\n",
    "\n",
    "print(\"Accuracy:\",metrics.accuracy_score(y_test, final_array2))"
   ]
  },
  {
   "cell_type": "code",
   "execution_count": 23,
   "metadata": {},
   "outputs": [
    {
     "name": "stdout",
     "output_type": "stream",
     "text": "[0.8269720101781171, 0.8278201865988125, 0.820186598812553, 0.8303647158608991, 0.8269720101781171, 0.8278201865988125]\nAccuracy: 0.8481764206955047\n"
    }
   ],
   "source": [
    "better_model2 = []\n",
    "for i in the_models2:\n",
    "       if metrics.accuracy_score(y_test, i) > .82:\n",
    "              better_model2.append(i)\n",
    "keep2 = []\n",
    "for i in better_model2:\n",
    "    keep2.append(metrics.accuracy_score(y_test, i))\n",
    "print(keep2)\n",
    "final2 = []\n",
    "for i in range(len(better_model2[0])):\n",
    "       keep2 = np.zeros(22)\n",
    "       for x in range(len(better_model2)):\n",
    "              keep2 += better_model2[x][i]\n",
    "       for i in range(len(keep2)):\n",
    "              if keep2[i] == max(keep2):\n",
    "                     keep2[i] = 1\n",
    "              else:\n",
    "                     keep2[i] = 0\n",
    "       final2.append(keep2)\n",
    "final_array2 = np.array(final2)\n",
    "\n",
    "print(\"Accuracy:\",metrics.accuracy_score(y_test, final_array2))"
   ]
  },
  {
   "cell_type": "code",
   "execution_count": null,
   "metadata": {},
   "outputs": [],
   "source": []
  }
 ]
}